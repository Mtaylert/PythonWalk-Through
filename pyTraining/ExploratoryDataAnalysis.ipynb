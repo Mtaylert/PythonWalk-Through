{
 "cells": [
  {
   "cell_type": "markdown",
   "metadata": {},
   "source": [
    "## Read in python libraries for exercise"
   ]
  },
  {
   "cell_type": "code",
   "execution_count": 1,
   "metadata": {},
   "outputs": [],
   "source": [
    "import pandas as pd\n",
    "import numpy as np\n",
    "import matplotlib.pyplot as plt\n",
    "import seaborn as sns"
   ]
  },
  {
   "cell_type": "markdown",
   "metadata": {},
   "source": [
    "###  ~/Doc plus tab will auto-populate the Documnets directory"
   ]
  },
  {
   "cell_type": "code",
   "execution_count": 2,
   "metadata": {},
   "outputs": [
    {
     "data": {
      "text/html": [
       "<div>\n",
       "<style scoped>\n",
       "    .dataframe tbody tr th:only-of-type {\n",
       "        vertical-align: middle;\n",
       "    }\n",
       "\n",
       "    .dataframe tbody tr th {\n",
       "        vertical-align: top;\n",
       "    }\n",
       "\n",
       "    .dataframe thead th {\n",
       "        text-align: right;\n",
       "    }\n",
       "</style>\n",
       "<table border=\"1\" class=\"dataframe\">\n",
       "  <thead>\n",
       "    <tr style=\"text-align: right;\">\n",
       "      <th></th>\n",
       "      <th>Unnamed: 0</th>\n",
       "      <th>TV</th>\n",
       "      <th>radio</th>\n",
       "      <th>newspaper</th>\n",
       "      <th>sales</th>\n",
       "    </tr>\n",
       "  </thead>\n",
       "  <tbody>\n",
       "    <tr>\n",
       "      <th>0</th>\n",
       "      <td>1</td>\n",
       "      <td>230.1</td>\n",
       "      <td>37.8</td>\n",
       "      <td>69.2</td>\n",
       "      <td>22.1</td>\n",
       "    </tr>\n",
       "    <tr>\n",
       "      <th>1</th>\n",
       "      <td>2</td>\n",
       "      <td>44.5</td>\n",
       "      <td>39.3</td>\n",
       "      <td>45.1</td>\n",
       "      <td>10.4</td>\n",
       "    </tr>\n",
       "    <tr>\n",
       "      <th>2</th>\n",
       "      <td>3</td>\n",
       "      <td>17.2</td>\n",
       "      <td>45.9</td>\n",
       "      <td>69.3</td>\n",
       "      <td>9.3</td>\n",
       "    </tr>\n",
       "    <tr>\n",
       "      <th>3</th>\n",
       "      <td>4</td>\n",
       "      <td>151.5</td>\n",
       "      <td>41.3</td>\n",
       "      <td>58.5</td>\n",
       "      <td>18.5</td>\n",
       "    </tr>\n",
       "    <tr>\n",
       "      <th>4</th>\n",
       "      <td>5</td>\n",
       "      <td>180.8</td>\n",
       "      <td>10.8</td>\n",
       "      <td>58.4</td>\n",
       "      <td>12.9</td>\n",
       "    </tr>\n",
       "    <tr>\n",
       "      <th>5</th>\n",
       "      <td>6</td>\n",
       "      <td>8.7</td>\n",
       "      <td>48.9</td>\n",
       "      <td>75.0</td>\n",
       "      <td>7.2</td>\n",
       "    </tr>\n",
       "    <tr>\n",
       "      <th>6</th>\n",
       "      <td>7</td>\n",
       "      <td>57.5</td>\n",
       "      <td>32.8</td>\n",
       "      <td>23.5</td>\n",
       "      <td>11.8</td>\n",
       "    </tr>\n",
       "    <tr>\n",
       "      <th>7</th>\n",
       "      <td>8</td>\n",
       "      <td>120.2</td>\n",
       "      <td>19.6</td>\n",
       "      <td>11.6</td>\n",
       "      <td>13.2</td>\n",
       "    </tr>\n",
       "    <tr>\n",
       "      <th>8</th>\n",
       "      <td>9</td>\n",
       "      <td>8.6</td>\n",
       "      <td>2.1</td>\n",
       "      <td>1.0</td>\n",
       "      <td>4.8</td>\n",
       "    </tr>\n",
       "    <tr>\n",
       "      <th>9</th>\n",
       "      <td>10</td>\n",
       "      <td>199.8</td>\n",
       "      <td>2.6</td>\n",
       "      <td>21.2</td>\n",
       "      <td>10.6</td>\n",
       "    </tr>\n",
       "  </tbody>\n",
       "</table>\n",
       "</div>"
      ],
      "text/plain": [
       "   Unnamed: 0     TV  radio  newspaper  sales\n",
       "0           1  230.1   37.8       69.2   22.1\n",
       "1           2   44.5   39.3       45.1   10.4\n",
       "2           3   17.2   45.9       69.3    9.3\n",
       "3           4  151.5   41.3       58.5   18.5\n",
       "4           5  180.8   10.8       58.4   12.9\n",
       "5           6    8.7   48.9       75.0    7.2\n",
       "6           7   57.5   32.8       23.5   11.8\n",
       "7           8  120.2   19.6       11.6   13.2\n",
       "8           9    8.6    2.1        1.0    4.8\n",
       "9          10  199.8    2.6       21.2   10.6"
      ]
     },
     "execution_count": 2,
     "metadata": {},
     "output_type": "execute_result"
    }
   ],
   "source": [
    "\n",
    "#Read in the csv file and show the first 10 rows\n",
    "data = pd.read_csv('/Users/Matt/Documents/PythonWalk-Through/data/Advertising.csv')\n",
    "data.head(10)"
   ]
  },
  {
   "cell_type": "markdown",
   "metadata": {},
   "source": [
    "# Remove a column from a dataframe"
   ]
  },
  {
   "cell_type": "code",
   "execution_count": 3,
   "metadata": {},
   "outputs": [
    {
     "data": {
      "text/html": [
       "<div>\n",
       "<style scoped>\n",
       "    .dataframe tbody tr th:only-of-type {\n",
       "        vertical-align: middle;\n",
       "    }\n",
       "\n",
       "    .dataframe tbody tr th {\n",
       "        vertical-align: top;\n",
       "    }\n",
       "\n",
       "    .dataframe thead th {\n",
       "        text-align: right;\n",
       "    }\n",
       "</style>\n",
       "<table border=\"1\" class=\"dataframe\">\n",
       "  <thead>\n",
       "    <tr style=\"text-align: right;\">\n",
       "      <th></th>\n",
       "      <th>TV</th>\n",
       "      <th>radio</th>\n",
       "      <th>newspaper</th>\n",
       "      <th>sales</th>\n",
       "    </tr>\n",
       "  </thead>\n",
       "  <tbody>\n",
       "    <tr>\n",
       "      <th>0</th>\n",
       "      <td>230.1</td>\n",
       "      <td>37.8</td>\n",
       "      <td>69.2</td>\n",
       "      <td>22.1</td>\n",
       "    </tr>\n",
       "    <tr>\n",
       "      <th>1</th>\n",
       "      <td>44.5</td>\n",
       "      <td>39.3</td>\n",
       "      <td>45.1</td>\n",
       "      <td>10.4</td>\n",
       "    </tr>\n",
       "    <tr>\n",
       "      <th>2</th>\n",
       "      <td>17.2</td>\n",
       "      <td>45.9</td>\n",
       "      <td>69.3</td>\n",
       "      <td>9.3</td>\n",
       "    </tr>\n",
       "    <tr>\n",
       "      <th>3</th>\n",
       "      <td>151.5</td>\n",
       "      <td>41.3</td>\n",
       "      <td>58.5</td>\n",
       "      <td>18.5</td>\n",
       "    </tr>\n",
       "    <tr>\n",
       "      <th>4</th>\n",
       "      <td>180.8</td>\n",
       "      <td>10.8</td>\n",
       "      <td>58.4</td>\n",
       "      <td>12.9</td>\n",
       "    </tr>\n",
       "    <tr>\n",
       "      <th>5</th>\n",
       "      <td>8.7</td>\n",
       "      <td>48.9</td>\n",
       "      <td>75.0</td>\n",
       "      <td>7.2</td>\n",
       "    </tr>\n",
       "    <tr>\n",
       "      <th>6</th>\n",
       "      <td>57.5</td>\n",
       "      <td>32.8</td>\n",
       "      <td>23.5</td>\n",
       "      <td>11.8</td>\n",
       "    </tr>\n",
       "    <tr>\n",
       "      <th>7</th>\n",
       "      <td>120.2</td>\n",
       "      <td>19.6</td>\n",
       "      <td>11.6</td>\n",
       "      <td>13.2</td>\n",
       "    </tr>\n",
       "    <tr>\n",
       "      <th>8</th>\n",
       "      <td>8.6</td>\n",
       "      <td>2.1</td>\n",
       "      <td>1.0</td>\n",
       "      <td>4.8</td>\n",
       "    </tr>\n",
       "    <tr>\n",
       "      <th>9</th>\n",
       "      <td>199.8</td>\n",
       "      <td>2.6</td>\n",
       "      <td>21.2</td>\n",
       "      <td>10.6</td>\n",
       "    </tr>\n",
       "  </tbody>\n",
       "</table>\n",
       "</div>"
      ],
      "text/plain": [
       "      TV  radio  newspaper  sales\n",
       "0  230.1   37.8       69.2   22.1\n",
       "1   44.5   39.3       45.1   10.4\n",
       "2   17.2   45.9       69.3    9.3\n",
       "3  151.5   41.3       58.5   18.5\n",
       "4  180.8   10.8       58.4   12.9\n",
       "5    8.7   48.9       75.0    7.2\n",
       "6   57.5   32.8       23.5   11.8\n",
       "7  120.2   19.6       11.6   13.2\n",
       "8    8.6    2.1        1.0    4.8\n",
       "9  199.8    2.6       21.2   10.6"
      ]
     },
     "execution_count": 3,
     "metadata": {},
     "output_type": "execute_result"
    }
   ],
   "source": [
    "#Remove the column \"Unnamed: 0\" from the dataset. This is a duplicate index field and is not needed.\n",
    "\n",
    "data.drop('Unnamed: 0', axis=1, inplace=True)\n",
    "\n",
    "data.head(10)"
   ]
  },
  {
   "cell_type": "markdown",
   "metadata": {},
   "source": [
    "## Create a correlation matrix "
   ]
  },
  {
   "cell_type": "code",
   "execution_count": 4,
   "metadata": {},
   "outputs": [
    {
     "data": {
      "text/html": [
       "<div>\n",
       "<style scoped>\n",
       "    .dataframe tbody tr th:only-of-type {\n",
       "        vertical-align: middle;\n",
       "    }\n",
       "\n",
       "    .dataframe tbody tr th {\n",
       "        vertical-align: top;\n",
       "    }\n",
       "\n",
       "    .dataframe thead th {\n",
       "        text-align: right;\n",
       "    }\n",
       "</style>\n",
       "<table border=\"1\" class=\"dataframe\">\n",
       "  <thead>\n",
       "    <tr style=\"text-align: right;\">\n",
       "      <th></th>\n",
       "      <th>TV</th>\n",
       "      <th>radio</th>\n",
       "      <th>newspaper</th>\n",
       "      <th>sales</th>\n",
       "    </tr>\n",
       "  </thead>\n",
       "  <tbody>\n",
       "    <tr>\n",
       "      <th>TV</th>\n",
       "      <td>1.000000</td>\n",
       "      <td>0.054809</td>\n",
       "      <td>0.056648</td>\n",
       "      <td>0.782224</td>\n",
       "    </tr>\n",
       "    <tr>\n",
       "      <th>radio</th>\n",
       "      <td>0.054809</td>\n",
       "      <td>1.000000</td>\n",
       "      <td>0.354104</td>\n",
       "      <td>0.576223</td>\n",
       "    </tr>\n",
       "    <tr>\n",
       "      <th>newspaper</th>\n",
       "      <td>0.056648</td>\n",
       "      <td>0.354104</td>\n",
       "      <td>1.000000</td>\n",
       "      <td>0.228299</td>\n",
       "    </tr>\n",
       "    <tr>\n",
       "      <th>sales</th>\n",
       "      <td>0.782224</td>\n",
       "      <td>0.576223</td>\n",
       "      <td>0.228299</td>\n",
       "      <td>1.000000</td>\n",
       "    </tr>\n",
       "  </tbody>\n",
       "</table>\n",
       "</div>"
      ],
      "text/plain": [
       "                 TV     radio  newspaper     sales\n",
       "TV         1.000000  0.054809   0.056648  0.782224\n",
       "radio      0.054809  1.000000   0.354104  0.576223\n",
       "newspaper  0.056648  0.354104   1.000000  0.228299\n",
       "sales      0.782224  0.576223   0.228299  1.000000"
      ]
     },
     "execution_count": 4,
     "metadata": {},
     "output_type": "execute_result"
    }
   ],
   "source": [
    "data.corr()"
   ]
  },
  {
   "cell_type": "code",
   "execution_count": 5,
   "metadata": {},
   "outputs": [
    {
     "data": {
      "text/plain": [
       "Text(0.5, 1, 'Correlation Map')"
      ]
     },
     "execution_count": 5,
     "metadata": {},
     "output_type": "execute_result"
    },
    {
     "data": {
      "image/png": "[encoded data removed]",
      "text/plain": [
       "<Figure size 1296x720 with 2 Axes>"
      ]
     },
     "metadata": {
      "needs_background": "light"
     },
     "output_type": "display_data"
    }
   ],
   "source": [
    "#correlation heatmap\n",
    "plt.figure(figsize=(18,10))\n",
    "\n",
    "sns.heatmap(data.corr(),annot=True)\n",
    "plt.title(\"Correlation Map\")"
   ]
  },
  {
   "cell_type": "markdown",
   "metadata": {},
   "source": [
    "## What did we learn?\n",
    "\n",
    "    -all three media outlets appear to have a positive relationship with sales. Let's plot out the relationships\n",
    "    to determine if that relationship is linear"
   ]
  },
  {
   "cell_type": "code",
   "execution_count": 6,
   "metadata": {},
   "outputs": [
    {
     "name": "stdout",
     "output_type": "stream",
     "text": [
      "\n",
      "\n",
      "\n",
      "\n"
     ]
    },
    {
     "data": {
      "text/plain": [
       "Text(0.5, 1, 'Newspaper on Sales')"
      ]
     },
     "execution_count": 6,
     "metadata": {},
     "output_type": "execute_result"
    },
    {
     "data": {
      "image/png": "[encoded data removed]",
      "text/plain": [
       "<Figure size 360x360 with 1 Axes>"
      ]
     },
     "metadata": {
      "needs_background": "light"
     },
     "output_type": "display_data"
    },
    {
     "data": {
      "image/png": "[encoded data removed]",
      "text/plain": [
       "<Figure size 360x360 with 1 Axes>"
      ]
     },
     "metadata": {
      "needs_background": "light"
     },
     "output_type": "display_data"
    },
    {
     "data": {
      "image/png": "[encoded data removed]",
      "text/plain": [
       "<Figure size 360x360 with 1 Axes>"
      ]
     },
     "metadata": {
      "needs_background": "light"
     },
     "output_type": "display_data"
    }
   ],
   "source": [
    "\n",
    "\n",
    "sns.lmplot(x='TV',y='sales',data=data,fit_reg=False)\n",
    "plt.title('TV on Sales')\n",
    "print('\\n')\n",
    "sns.lmplot(x='radio',y='sales',data=data,fit_reg=False)\n",
    "plt.title('Radio on Sales')\n",
    "\n",
    "\n",
    "print('\\n')\n",
    "sns.lmplot(x='newspaper',y='sales',data=data,fit_reg=False)\n",
    "plt.title('Newspaper on Sales')\n"
   ]
  },
  {
   "cell_type": "markdown",
   "metadata": {},
   "source": [
    "### We can see that both tv and radio have linear relationships with sales; however, newspaper does not have this relationship. The correlation matrix also tells us that newspaper is highly correlated with radio advertising. The multi-colinearity may explain why newspaper is correlated with sales. \n",
    "    - multicollinearity (also collinearity) is a phenomenon in which two or more predictor variables in a multiple regression model are highly correlated, meaning that one can be linearly predicted from the others with a substantial degree of accuracy. In this situation the coefficient estimates of the multiple regression may change erratically in response to small changes in the model or the data. Multicollinearity does not reduce the predictive power or reliability of the model as a whole, at least within the sample data set; it only affects calculations regarding individual predictors. That is, a multiple regression model with correlated predictors can indicate how well the entire bundle of predictors predicts the outcome variable, but it may not give valid results about any individual predictor, or about which predictors are redundant with respect to others."
   ]
  },
  {
   "cell_type": "markdown",
   "metadata": {},
   "source": [
    "### Histograms and Boxplots\n",
    "    -The box and whisker plot is a chart that graphically represents the five most important \n",
    "    descriptive value ofany dataset.\n",
    "    1.) minimum value\n",
    "    2.) first quartile (25%)\n",
    "    3.) median\n",
    "    4.) third quartile (75%)\n",
    "    5.) maximum value\n",
    "    \n",
    "    -The histogram is a type of bar chart that graphically displays the frequencies of a dataset. It plots the raw count on the Y-axis and the variable being measured on the x-axis. "
   ]
  },
  {
   "cell_type": "code",
   "execution_count": 7,
   "metadata": {},
   "outputs": [],
   "source": [
    "def BW(df,column):\n",
    "    sns.boxplot(df[column])\n",
    "    plt.show()\n",
    "    \n",
    "    "
   ]
  },
  {
   "cell_type": "code",
   "execution_count": 8,
   "metadata": {
    "scrolled": true
   },
   "outputs": [
    {
     "data": {
      "image/png": "[encoded data removed]",
      "text/plain": [
       "<Figure size 432x288 with 1 Axes>"
      ]
     },
     "metadata": {
      "needs_background": "light"
     },
     "output_type": "display_data"
    },
    {
     "name": "stdout",
     "output_type": "stream",
     "text": [
      "\n",
      "\n"
     ]
    },
    {
     "data": {
      "image/png": "[encoded data removed]",
      "text/plain": [
       "<Figure size 432x288 with 1 Axes>"
      ]
     },
     "metadata": {
      "needs_background": "light"
     },
     "output_type": "display_data"
    },
    {
     "name": "stdout",
     "output_type": "stream",
     "text": [
      "\n",
      "\n"
     ]
    },
    {
     "data": {
      "image/png": "[encoded data removed]",
      "text/plain": [
       "<Figure size 432x288 with 1 Axes>"
      ]
     },
     "metadata": {
      "needs_background": "light"
     },
     "output_type": "display_data"
    },
    {
     "name": "stdout",
     "output_type": "stream",
     "text": [
      "\n",
      "\n"
     ]
    },
    {
     "data": {
      "image/png": "[encoded data removed]",
      "text/plain": [
       "<Figure size 432x288 with 1 Axes>"
      ]
     },
     "metadata": {
      "needs_background": "light"
     },
     "output_type": "display_data"
    },
    {
     "name": "stdout",
     "output_type": "stream",
     "text": [
      "\n",
      "\n"
     ]
    }
   ],
   "source": [
    "for i in data.columns:\n",
    "    BW(data,i)\n",
    "    print('\\n')"
   ]
  },
  {
   "cell_type": "code",
   "execution_count": 9,
   "metadata": {},
   "outputs": [],
   "source": [
    "\n",
    "def Hist_Box(data,column, n_bins, graph='hist'):\n",
    "    \n",
    "\n",
    "\n",
    "    \"\"\"\n",
    "    input the dataframe and the column you wish to output the boxplot or histogram statistics and graphic\n",
    "    \n",
    "    \"\"\"\n",
    "    \n",
    "    if graph=='box':\n",
    "    \n",
    "        print('The min for the {} variable is {} \\n'.format(column,data[column].min()))\n",
    "        print('Quartile 1 for the {} variable is {} \\n'.format(column,np.quantile(data[column], .25)))\n",
    "        print('Median for the {} variable is {} \\n'.format(column,data[column].median()))\n",
    "        print('Quartile 3 for the {} variable is {} \\n'.format(column,np.quantile(data[column], .75)))\n",
    "        print('The max for the {} variable is {} \\n'.format(column,data[column].max()))\n",
    "\n",
    "\n",
    "        plt.title('Box and Whisker Plot')\n",
    "        sns.boxplot(x=data[column])\n",
    "        \n",
    "    elif graph=='hist' :\n",
    "        \n",
    "        #group data into bins\n",
    "        bins = np.linspace(data[column].min(), data[column].max(), n_bins-1)\n",
    "        groups = data.groupby(pd.cut(data[column], n_bins))\n",
    "        print(groups[column].count())\n",
    "        \n",
    "        plt.title('Histogram')\n",
    "        data[column].hist(bins=n_bins)\n",
    "        "
   ]
  },
  {
   "cell_type": "code",
   "execution_count": 10,
   "metadata": {},
   "outputs": [
    {
     "name": "stdout",
     "output_type": "stream",
     "text": [
      "The min for the TV variable is 0.7 \n",
      "\n",
      "Quartile 1 for the TV variable is 74.375 \n",
      "\n",
      "Median for the TV variable is 149.75 \n",
      "\n",
      "Quartile 3 for the TV variable is 218.825 \n",
      "\n",
      "The max for the TV variable is 296.4 \n",
      "\n"
     ]
    },
    {
     "data": {
      "image/png": "[encoded data removed]",
      "text/plain": [
       "<Figure size 432x288 with 1 Axes>"
      ]
     },
     "metadata": {
      "needs_background": "light"
     },
     "output_type": "display_data"
    }
   ],
   "source": [
    "\n",
    "##Call function\n",
    "Hist_Box(data,'TV',20,graph='box')"
   ]
  },
  {
   "cell_type": "markdown",
   "metadata": {},
   "source": [
    "<br>"
   ]
  },
  {
   "cell_type": "code",
   "execution_count": 11,
   "metadata": {
    "scrolled": false
   },
   "outputs": [
    {
     "name": "stdout",
     "output_type": "stream",
     "text": [
      "TV\n",
      "(0.404, 15.485]      11\n",
      "(15.485, 30.27]      15\n",
      "(30.27, 45.055]       9\n",
      "(45.055, 59.84]       6\n",
      "(59.84, 74.625]       9\n",
      "(74.625, 89.41]      12\n",
      "(89.41, 104.195]     10\n",
      "(104.195, 118.98]     8\n",
      "(118.98, 133.765]     8\n",
      "(133.765, 148.55]    11\n",
      "(148.55, 163.335]     5\n",
      "(163.335, 178.12]    12\n",
      "(178.12, 192.905]     8\n",
      "(192.905, 207.69]    14\n",
      "(207.69, 222.475]    17\n",
      "(222.475, 237.26]     9\n",
      "(237.26, 252.045]    13\n",
      "(252.045, 266.83]     7\n",
      "(266.83, 281.615]     7\n",
      "(281.615, 296.4]      9\n",
      "Name: TV, dtype: int64\n"
     ]
    },
    {
     "data": {
      "image/png": "[encoded data removed]",
      "text/plain": [
       "<Figure size 432x288 with 1 Axes>"
      ]
     },
     "metadata": {
      "needs_background": "light"
     },
     "output_type": "display_data"
    }
   ],
   "source": [
    "Hist_Box(data,'TV',20,graph='hist')"
   ]
  },
  {
   "cell_type": "markdown",
   "metadata": {},
   "source": [
    "# Simple Least Squares Regression Model\n",
    "\n",
    "\n",
    "$$ f(y) = B_0 + B_1 * X_1 $$ \n",
    "\n",
    "\n",
    "\n",
    "### Slope:\n",
    "\n",
    "$$ B_1 = \\frac{\\sum_{i=1}^n (xi - xhat)(yi - yhat)}{\\sum_{i=1}^n (xi - xhat)^2}$$\n",
    "\n",
    "\n",
    "### Intercept:\n",
    "\n",
    "$$ B_0 = yhat - B_1 * xhat$$\n",
    "\n",
    "\n",
    "### Residual Sum of Sqaures\n",
    "$$ RSS = e^2_1 + e^2_2 +.....+e^2_n$$"
   ]
  },
  {
   "cell_type": "code",
   "execution_count": 12,
   "metadata": {},
   "outputs": [],
   "source": [
    "split_val = round(len(data)*.8)\n",
    "\n",
    "train_df =data[['TV','sales']].iloc[:split_val]\n",
    "test_df =data[['TV','sales']].iloc[split_val:]\n"
   ]
  },
  {
   "cell_type": "code",
   "execution_count": 13,
   "metadata": {
    "scrolled": true
   },
   "outputs": [
    {
     "name": "stdout",
     "output_type": "stream",
     "text": [
      "      TV  sales\n",
      "0  230.1   22.1\n",
      "1   44.5   10.4\n",
      "2   17.2    9.3\n",
      "3  151.5   18.5\n",
      "4  180.8   12.9\n",
      "\n",
      "\n",
      "230.1   22.1\n",
      "44.5   10.4\n",
      "17.2   9.3\n",
      "151.5   18.5\n",
      "180.8   12.9\n",
      "8.7   7.2\n",
      "57.5   11.8\n",
      "120.2   13.2\n",
      "8.6   4.8\n",
      "199.8   10.6\n",
      "66.1   8.6\n",
      "214.7   17.4\n",
      "23.8   9.2\n",
      "97.5   9.7\n",
      "204.1   19.0\n",
      "195.4   22.4\n",
      "67.8   12.5\n",
      "281.4   24.4\n",
      "69.2   11.3\n",
      "147.3   14.6\n",
      "218.4   18.0\n",
      "237.4   12.5\n",
      "13.2   5.6\n",
      "228.3   15.5\n",
      "62.3   9.7\n",
      "262.9   12.0\n",
      "142.9   15.0\n",
      "240.1   15.9\n",
      "248.8   18.9\n",
      "70.6   10.5\n",
      "292.9   21.4\n",
      "112.9   11.9\n",
      "97.2   9.6\n",
      "265.6   17.4\n",
      "95.7   9.5\n",
      "290.7   12.8\n",
      "266.9   25.4\n",
      "74.7   14.7\n",
      "43.1   10.1\n",
      "228.0   21.5\n",
      "202.5   16.6\n",
      "177.0   17.1\n",
      "293.6   20.7\n",
      "206.9   12.9\n",
      "25.1   8.5\n",
      "175.1   14.9\n",
      "89.7   10.6\n",
      "239.9   23.2\n",
      "227.2   14.8\n",
      "66.9   9.7\n",
      "199.8   11.4\n",
      "100.4   10.7\n",
      "216.4   22.6\n",
      "182.6   21.2\n",
      "262.7   20.2\n",
      "198.9   23.7\n",
      "7.3   5.5\n",
      "136.2   13.2\n",
      "210.8   23.8\n",
      "210.7   18.4\n",
      "53.5   8.1\n",
      "261.3   24.2\n",
      "239.3   15.7\n",
      "102.7   14.0\n",
      "131.1   18.0\n",
      "69.0   9.3\n",
      "31.5   9.5\n",
      "139.3   13.4\n",
      "237.4   18.9\n",
      "216.8   22.3\n",
      "199.1   18.3\n",
      "109.8   12.4\n",
      "26.8   8.8\n",
      "129.4   11.0\n",
      "213.4   17.0\n",
      "16.9   8.7\n",
      "27.5   6.9\n",
      "120.5   14.2\n",
      "5.4   5.3\n",
      "116.0   11.0\n",
      "76.4   11.8\n",
      "239.8   12.3\n",
      "75.3   11.3\n",
      "68.4   13.6\n",
      "213.5   21.7\n",
      "193.2   15.2\n",
      "76.3   12.0\n",
      "110.7   16.0\n",
      "88.3   12.9\n",
      "109.8   16.7\n",
      "134.3   11.2\n",
      "28.6   7.3\n",
      "217.7   19.4\n",
      "250.9   22.2\n",
      "107.4   11.5\n",
      "163.3   16.9\n",
      "197.6   11.7\n",
      "184.9   15.5\n",
      "289.7   25.4\n",
      "135.2   17.2\n",
      "222.4   11.7\n",
      "296.4   23.8\n",
      "280.2   14.8\n",
      "187.9   14.7\n",
      "238.2   20.7\n",
      "137.9   19.2\n",
      "25.0   7.2\n",
      "90.4   8.7\n",
      "13.1   5.3\n",
      "255.4   19.8\n",
      "225.8   13.4\n",
      "241.7   21.8\n",
      "175.7   14.1\n",
      "209.6   15.9\n",
      "78.2   14.6\n",
      "75.1   12.6\n",
      "139.2   12.2\n",
      "76.4   9.4\n",
      "125.7   15.9\n",
      "19.4   6.6\n",
      "141.3   15.5\n",
      "18.8   7.0\n",
      "224.0   11.6\n",
      "123.1   15.2\n",
      "229.5   19.7\n",
      "87.2   10.6\n",
      "7.8   6.6\n",
      "80.2   8.8\n",
      "220.3   24.7\n",
      "59.6   9.7\n",
      "0.7   1.6\n",
      "265.2   12.7\n",
      "8.4   5.7\n",
      "219.8   19.6\n",
      "36.9   10.8\n",
      "48.3   11.6\n",
      "25.6   9.5\n",
      "273.7   20.8\n",
      "43.0   9.6\n",
      "184.9   20.7\n",
      "73.4   10.9\n",
      "193.7   19.2\n",
      "220.5   20.1\n",
      "104.6   10.4\n",
      "96.2   11.4\n",
      "140.3   10.3\n",
      "240.1   13.2\n",
      "243.2   25.4\n",
      "38.0   10.9\n",
      "44.7   10.1\n",
      "280.7   16.1\n",
      "121.0   11.6\n",
      "197.6   16.6\n",
      "171.3   19.0\n",
      "187.8   15.6\n",
      "4.1   3.2\n",
      "93.9   15.3\n",
      "149.8   10.1\n",
      "11.7   7.3\n",
      "131.7   12.9\n",
      "172.5   14.4\n",
      "85.7   13.3\n",
      "188.4   14.9\n",
      "163.5   18.0\n",
      "117.2   11.9\n",
      "234.5   11.9\n",
      "17.9   8.0\n",
      "206.8   12.2\n",
      "215.4   17.1\n",
      "284.3   15.0\n",
      "50.0   8.4\n",
      "164.5   14.5\n",
      "19.6   7.6\n",
      "168.4   11.7\n",
      "222.4   11.5\n",
      "276.9   27.0\n",
      "248.4   20.2\n",
      "170.2   11.7\n",
      "276.7   11.8\n",
      "165.6   12.6\n",
      "156.6   10.5\n",
      "218.5   12.2\n",
      "56.2   8.7\n",
      "287.6   26.2\n",
      "253.8   17.6\n",
      "205.0   22.6\n",
      "139.5   10.3\n",
      "191.1   17.3\n",
      "286.0   15.9\n",
      "18.7   6.7\n",
      "39.5   10.8\n",
      "75.5   9.9\n",
      "17.2   5.9\n",
      "166.8   19.6\n",
      "149.7   17.3\n",
      "38.2   7.6\n",
      "94.2   9.7\n",
      "177.0   12.8\n",
      "283.6   25.5\n",
      "232.1   13.4\n"
     ]
    }
   ],
   "source": [
    "print(data[['TV','sales']].head())\n",
    "print('\\n')\n",
    "\n",
    "y = data['sales']\n",
    "X = data['TV']\n",
    "\n",
    "X_mean = X.mean()\n",
    "y_mean = y.mean()\n",
    "\n",
    "for x_, y_  in zip(X,y):\n",
    "    \n",
    "    print(x_,\" \", y_)"
   ]
  },
  {
   "cell_type": "code",
   "execution_count": 14,
   "metadata": {},
   "outputs": [],
   "source": [
    "## Split data into dependent and independent variables. We'll use \"sales\" and \"TV\"\n",
    "\n",
    "y_train = train_df['sales']\n",
    "X_train = train_df['TV']\n",
    "\n",
    "\n",
    "\n",
    "y_test = test_df['sales']\n",
    "X_test = test_df['TV']\n",
    "\n",
    "def Slope(X,Y):\n",
    "    numerator = [(x_ - X.mean())*(y_ - Y.mean()) for x_,y_ in zip(X,Y)]\n",
    "    numerator = sum(numerator)\n",
    "    denominator = [(x_ - X.mean())**2 for x_ in X]\n",
    "    denominator = sum(denominator)\n",
    "    coeff = numerator/denominator\n",
    "    return coeff\n",
    "\n",
    "\n",
    "\n",
    "def Intercept(y,x,slope):\n",
    "    intercept = y.mean()- (slope*x.mean())\n",
    "    return intercept\n",
    "\n"
   ]
  },
  {
   "cell_type": "code",
   "execution_count": 15,
   "metadata": {},
   "outputs": [
    {
     "name": "stdout",
     "output_type": "stream",
     "text": [
      "0.048935660411275395\n"
     ]
    }
   ],
   "source": [
    "slope = Slope(X_train,y_train)\n",
    "intercept = Intercept(y_train,X_train,slope)\n",
    "\n",
    "print(slope)"
   ]
  },
  {
   "cell_type": "code",
   "execution_count": 16,
   "metadata": {},
   "outputs": [],
   "source": [
    "def predict(slope,intercept,X):\n",
    "    yhat = (X*slope)+intercept\n",
    "    return yhat\n",
    "\n",
    "\n",
    "\n",
    "lrprediction = predict(slope,intercept,X_test)"
   ]
  },
  {
   "cell_type": "code",
   "execution_count": 17,
   "metadata": {},
   "outputs": [
    {
     "ename": "NameError",
     "evalue": "name 'prediction' is not defined",
     "output_type": "error",
     "traceback": [
      "\u001b[0;31m---------------------------------------------------------------------------\u001b[0m",
      "\u001b[0;31mNameError\u001b[0m                                 Traceback (most recent call last)",
      "\u001b[0;32m<ipython-input-17-55738630d8a2>\u001b[0m in \u001b[0;36m<module>\u001b[0;34m\u001b[0m\n\u001b[0;32m----> 1\u001b[0;31m \u001b[0mpreds_vs_actual\u001b[0m \u001b[0;34m=\u001b[0m \u001b[0mpd\u001b[0m\u001b[0;34m.\u001b[0m\u001b[0mDataFrame\u001b[0m\u001b[0;34m(\u001b[0m\u001b[0;34m{\u001b[0m\u001b[0;34m'Predictions'\u001b[0m\u001b[0;34m:\u001b[0m\u001b[0mprediction\u001b[0m\u001b[0;34m,\u001b[0m \u001b[0;34m\"Actual\"\u001b[0m\u001b[0;34m:\u001b[0m\u001b[0my_test\u001b[0m\u001b[0;34m}\u001b[0m\u001b[0;34m)\u001b[0m\u001b[0;34m\u001b[0m\u001b[0;34m\u001b[0m\u001b[0m\n\u001b[0m\u001b[1;32m      2\u001b[0m \u001b[0mpreds_vs_actual\u001b[0m\u001b[0;34m.\u001b[0m\u001b[0mplot\u001b[0m\u001b[0;34m(\u001b[0m\u001b[0;34m)\u001b[0m\u001b[0;34m\u001b[0m\u001b[0;34m\u001b[0m\u001b[0m\n\u001b[1;32m      3\u001b[0m \u001b[0mplt\u001b[0m\u001b[0;34m.\u001b[0m\u001b[0mxlim\u001b[0m\u001b[0;34m(\u001b[0m\u001b[0;36m160\u001b[0m\u001b[0;34m,\u001b[0m\u001b[0;36m170\u001b[0m\u001b[0;34m)\u001b[0m\u001b[0;34m\u001b[0m\u001b[0;34m\u001b[0m\u001b[0m\n",
      "\u001b[0;31mNameError\u001b[0m: name 'prediction' is not defined"
     ]
    }
   ],
   "source": [
    "preds_vs_actual = pd.DataFrame({'Predictions':prediction, \"Actual\":y_test})\n",
    "preds_vs_actual.plot()\n",
    "plt.xlim(160,170)"
   ]
  },
  {
   "cell_type": "code",
   "execution_count": 20,
   "metadata": {},
   "outputs": [
    {
     "name": "stdout",
     "output_type": "stream",
     "text": [
      "1.8912698394872183\n"
     ]
    }
   ],
   "source": [
    "\n",
    "def RSE(y,yhat,degOfFreedom):\n",
    "    \n",
    "    ##degOfFreedom is n - (count(independentvars) + 1)\n",
    "    error = (y-yhat)**2\n",
    "    return np.sqrt(sum(error)/degOfFreedom)\n",
    "\n",
    "\n",
    "\n",
    "\n",
    "print(RSE(y_test,lrprediction,158))\n",
    "\n",
    "\n",
    "\n",
    "\n",
    "\n",
    "\n",
    "def SSE_ConfiIterval(yhat,indvar,y,slope):\n",
    "    '''\n",
    "    This is an estimate for the slope coefficient.\n",
    "    \n",
    "    This calcs the SSE of B1 and the confidence interval\n",
    "    '''\n",
    "    \n",
    "    error = y-yhat\n",
    "    numerator = error.var()\n",
    "    denominator = [(x-indvar.mean())**2 for x in indvar]\n",
    "    SSE=np.sqrt(numerator/sum(denominator))\n",
    "    lowerCoef = slope- (2*SSE)\n",
    "    upperCoef = slope + (2*SSE)\n",
    "    \n",
    "    #confidence interval\n",
    "    confidenceInt = [lowerCoef,upperCoef]\n",
    "    \n",
    "    #t-statistic\n",
    "    \n",
    "    t_stat = slope/SSE\n",
    "    return (t_stat,confidenceInt)"
   ]
  },
  {
   "cell_type": "code",
   "execution_count": 21,
   "metadata": {
    "scrolled": true
   },
   "outputs": [
    {
     "data": {
      "text/plain": [
       "(16.44365650731401, [0.0429837408501353, 0.05488757997241549])"
      ]
     },
     "execution_count": 21,
     "metadata": {},
     "output_type": "execute_result"
    }
   ],
   "source": [
    "SSE_ConfiIterval(lrprediction,data['TV'],data['sales'],slope)"
   ]
  },
  {
   "cell_type": "code",
   "execution_count": 22,
   "metadata": {},
   "outputs": [],
   "source": [
    "import statsmodels.api as sm\n"
   ]
  },
  {
   "cell_type": "code",
   "execution_count": 23,
   "metadata": {},
   "outputs": [
    {
     "name": "stderr",
     "output_type": "stream",
     "text": [
      "//anaconda3/lib/python3.7/site-packages/numpy/core/fromnumeric.py:2389: FutureWarning: Method .ptp is deprecated and will be removed in a future version. Use numpy.ptp instead.\n",
      "  return ptp(axis=axis, out=out, **kwargs)\n"
     ]
    }
   ],
   "source": [
    "OLS = sm.OLS(y_train,sm.add_constant(X_train)).fit()\n"
   ]
  },
  {
   "cell_type": "code",
   "execution_count": 24,
   "metadata": {
    "scrolled": false
   },
   "outputs": [
    {
     "data": {
      "text/html": [
       "<table class=\"simpletable\">\n",
       "<caption>OLS Regression Results</caption>\n",
       "<tr>\n",
       "  <th>Dep. Variable:</th>          <td>sales</td>      <th>  R-squared:         </th> <td>   0.643</td>\n",
       "</tr>\n",
       "<tr>\n",
       "  <th>Model:</th>                   <td>OLS</td>       <th>  Adj. R-squared:    </th> <td>   0.641</td>\n",
       "</tr>\n",
       "<tr>\n",
       "  <th>Method:</th>             <td>Least Squares</td>  <th>  F-statistic:       </th> <td>   284.6</td>\n",
       "</tr>\n",
       "<tr>\n",
       "  <th>Date:</th>             <td>Tue, 10 Mar 2020</td> <th>  Prob (F-statistic):</th> <td>3.58e-37</td>\n",
       "</tr>\n",
       "<tr>\n",
       "  <th>Time:</th>                 <td>13:45:12</td>     <th>  Log-Likelihood:    </th> <td> -408.80</td>\n",
       "</tr>\n",
       "<tr>\n",
       "  <th>No. Observations:</th>      <td>   160</td>      <th>  AIC:               </th> <td>   821.6</td>\n",
       "</tr>\n",
       "<tr>\n",
       "  <th>Df Residuals:</th>          <td>   158</td>      <th>  BIC:               </th> <td>   827.7</td>\n",
       "</tr>\n",
       "<tr>\n",
       "  <th>Df Model:</th>              <td>     1</td>      <th>                     </th>     <td> </td>   \n",
       "</tr>\n",
       "<tr>\n",
       "  <th>Covariance Type:</th>      <td>nonrobust</td>    <th>                     </th>     <td> </td>   \n",
       "</tr>\n",
       "</table>\n",
       "<table class=\"simpletable\">\n",
       "<tr>\n",
       "    <td></td>       <th>coef</th>     <th>std err</th>      <th>t</th>      <th>P>|t|</th>  <th>[0.025</th>    <th>0.975]</th>  \n",
       "</tr>\n",
       "<tr>\n",
       "  <th>const</th> <td>    7.0688</td> <td>    0.483</td> <td>   14.634</td> <td> 0.000</td> <td>    6.115</td> <td>    8.023</td>\n",
       "</tr>\n",
       "<tr>\n",
       "  <th>TV</th>    <td>    0.0489</td> <td>    0.003</td> <td>   16.871</td> <td> 0.000</td> <td>    0.043</td> <td>    0.055</td>\n",
       "</tr>\n",
       "</table>\n",
       "<table class=\"simpletable\">\n",
       "<tr>\n",
       "  <th>Omnibus:</th>       <td> 1.575</td> <th>  Durbin-Watson:     </th> <td>   1.931</td>\n",
       "</tr>\n",
       "<tr>\n",
       "  <th>Prob(Omnibus):</th> <td> 0.455</td> <th>  Jarque-Bera (JB):  </th> <td>   1.414</td>\n",
       "</tr>\n",
       "<tr>\n",
       "  <th>Skew:</th>          <td>-0.230</td> <th>  Prob(JB):          </th> <td>   0.493</td>\n",
       "</tr>\n",
       "<tr>\n",
       "  <th>Kurtosis:</th>      <td> 3.002</td> <th>  Cond. No.          </th> <td>    325.</td>\n",
       "</tr>\n",
       "</table><br/><br/>Warnings:<br/>[1] Standard Errors assume that the covariance matrix of the errors is correctly specified."
      ],
      "text/plain": [
       "<class 'statsmodels.iolib.summary.Summary'>\n",
       "\"\"\"\n",
       "                            OLS Regression Results                            \n",
       "==============================================================================\n",
       "Dep. Variable:                  sales   R-squared:                       0.643\n",
       "Model:                            OLS   Adj. R-squared:                  0.641\n",
       "Method:                 Least Squares   F-statistic:                     284.6\n",
       "Date:                Tue, 10 Mar 2020   Prob (F-statistic):           3.58e-37\n",
       "Time:                        13:45:12   Log-Likelihood:                -408.80\n",
       "No. Observations:                 160   AIC:                             821.6\n",
       "Df Residuals:                     158   BIC:                             827.7\n",
       "Df Model:                           1                                         \n",
       "Covariance Type:            nonrobust                                         \n",
       "==============================================================================\n",
       "                 coef    std err          t      P>|t|      [0.025      0.975]\n",
       "------------------------------------------------------------------------------\n",
       "const          7.0688      0.483     14.634      0.000       6.115       8.023\n",
       "TV             0.0489      0.003     16.871      0.000       0.043       0.055\n",
       "==============================================================================\n",
       "Omnibus:                        1.575   Durbin-Watson:                   1.931\n",
       "Prob(Omnibus):                  0.455   Jarque-Bera (JB):                1.414\n",
       "Skew:                          -0.230   Prob(JB):                        0.493\n",
       "Kurtosis:                       3.002   Cond. No.                         325.\n",
       "==============================================================================\n",
       "\n",
       "Warnings:\n",
       "[1] Standard Errors assume that the covariance matrix of the errors is correctly specified.\n",
       "\"\"\""
      ]
     },
     "execution_count": 24,
     "metadata": {},
     "output_type": "execute_result"
    }
   ],
   "source": [
    "OLS.summary()"
   ]
  },
  {
   "cell_type": "code",
   "execution_count": 25,
   "metadata": {
    "scrolled": true
   },
   "outputs": [
    {
     "data": {
      "text/html": [
       "<div>\n",
       "<style scoped>\n",
       "    .dataframe tbody tr th:only-of-type {\n",
       "        vertical-align: middle;\n",
       "    }\n",
       "\n",
       "    .dataframe tbody tr th {\n",
       "        vertical-align: top;\n",
       "    }\n",
       "\n",
       "    .dataframe thead th {\n",
       "        text-align: right;\n",
       "    }\n",
       "</style>\n",
       "<table border=\"1\" class=\"dataframe\">\n",
       "  <thead>\n",
       "    <tr style=\"text-align: right;\">\n",
       "      <th></th>\n",
       "      <th>const</th>\n",
       "      <th>TV</th>\n",
       "    </tr>\n",
       "  </thead>\n",
       "  <tbody>\n",
       "    <tr>\n",
       "      <th>const</th>\n",
       "      <td>0.233336</td>\n",
       "      <td>-0.001203</td>\n",
       "    </tr>\n",
       "    <tr>\n",
       "      <th>TV</th>\n",
       "      <td>-0.001203</td>\n",
       "      <td>0.000008</td>\n",
       "    </tr>\n",
       "  </tbody>\n",
       "</table>\n",
       "</div>"
      ],
      "text/plain": [
       "          const        TV\n",
       "const  0.233336 -0.001203\n",
       "TV    -0.001203  0.000008"
      ]
     },
     "execution_count": 25,
     "metadata": {},
     "output_type": "execute_result"
    }
   ],
   "source": [
    "OLS.cov_params()"
   ]
  },
  {
   "cell_type": "code",
   "execution_count": 26,
   "metadata": {},
   "outputs": [],
   "source": [
    "from sklearn.ensemble import RandomForestRegressor"
   ]
  },
  {
   "cell_type": "code",
   "execution_count": 27,
   "metadata": {},
   "outputs": [],
   "source": [
    "rfr = RandomForestRegressor(n_estimators=50)\n"
   ]
  },
  {
   "cell_type": "code",
   "execution_count": 28,
   "metadata": {},
   "outputs": [
    {
     "data": {
      "text/plain": [
       "RandomForestRegressor(bootstrap=True, criterion='mse', max_depth=None,\n",
       "                      max_features='auto', max_leaf_nodes=None,\n",
       "                      min_impurity_decrease=0.0, min_impurity_split=None,\n",
       "                      min_samples_leaf=1, min_samples_split=2,\n",
       "                      min_weight_fraction_leaf=0.0, n_estimators=50,\n",
       "                      n_jobs=None, oob_score=False, random_state=None,\n",
       "                      verbose=0, warm_start=False)"
      ]
     },
     "execution_count": 28,
     "metadata": {},
     "output_type": "execute_result"
    }
   ],
   "source": [
    "rfr.fit(np.array(X_train).reshape(-1,1),y_train)"
   ]
  },
  {
   "cell_type": "code",
   "execution_count": 34,
   "metadata": {},
   "outputs": [],
   "source": [
    "rfrPrediction = rfr.predict(np.array(X_test).reshape(-1,1))"
   ]
  },
  {
   "cell_type": "code",
   "execution_count": 35,
   "metadata": {
    "scrolled": true
   },
   "outputs": [],
   "source": [
    "preds_vs_actual = pd.DataFrame({'RFR_Predictions':rfrPrediction, 'LR_Prediction':lrprediction ,\"Actual\":y_test})\n"
   ]
  },
  {
   "cell_type": "code",
   "execution_count": 36,
   "metadata": {
    "scrolled": true
   },
   "outputs": [
    {
     "data": {
      "text/html": [
       "<div>\n",
       "<style scoped>\n",
       "    .dataframe tbody tr th:only-of-type {\n",
       "        vertical-align: middle;\n",
       "    }\n",
       "\n",
       "    .dataframe tbody tr th {\n",
       "        vertical-align: top;\n",
       "    }\n",
       "\n",
       "    .dataframe thead th {\n",
       "        text-align: right;\n",
       "    }\n",
       "</style>\n",
       "<table border=\"1\" class=\"dataframe\">\n",
       "  <thead>\n",
       "    <tr style=\"text-align: right;\">\n",
       "      <th></th>\n",
       "      <th>RFR_Predictions</th>\n",
       "      <th>LR_Prediction</th>\n",
       "      <th>Actual</th>\n",
       "    </tr>\n",
       "  </thead>\n",
       "  <tbody>\n",
       "    <tr>\n",
       "      <th>160</th>\n",
       "      <td>17.284000</td>\n",
       "      <td>15.510179</td>\n",
       "      <td>14.4</td>\n",
       "    </tr>\n",
       "    <tr>\n",
       "      <th>161</th>\n",
       "      <td>11.076000</td>\n",
       "      <td>11.262564</td>\n",
       "      <td>13.3</td>\n",
       "    </tr>\n",
       "    <tr>\n",
       "      <th>162</th>\n",
       "      <td>15.006000</td>\n",
       "      <td>16.288256</td>\n",
       "      <td>14.9</td>\n",
       "    </tr>\n",
       "    <tr>\n",
       "      <th>163</th>\n",
       "      <td>17.230000</td>\n",
       "      <td>15.069758</td>\n",
       "      <td>18.0</td>\n",
       "    </tr>\n",
       "    <tr>\n",
       "      <th>164</th>\n",
       "      <td>11.876000</td>\n",
       "      <td>12.804037</td>\n",
       "      <td>11.9</td>\n",
       "    </tr>\n",
       "    <tr>\n",
       "      <th>165</th>\n",
       "      <td>16.339733</td>\n",
       "      <td>18.544190</td>\n",
       "      <td>11.9</td>\n",
       "    </tr>\n",
       "    <tr>\n",
       "      <th>166</th>\n",
       "      <td>8.524000</td>\n",
       "      <td>7.944726</td>\n",
       "      <td>8.0</td>\n",
       "    </tr>\n",
       "    <tr>\n",
       "      <th>167</th>\n",
       "      <td>15.516000</td>\n",
       "      <td>17.188672</td>\n",
       "      <td>12.2</td>\n",
       "    </tr>\n",
       "    <tr>\n",
       "      <th>168</th>\n",
       "      <td>18.736000</td>\n",
       "      <td>17.609519</td>\n",
       "      <td>17.1</td>\n",
       "    </tr>\n",
       "    <tr>\n",
       "      <th>169</th>\n",
       "      <td>21.946000</td>\n",
       "      <td>20.981186</td>\n",
       "      <td>15.0</td>\n",
       "    </tr>\n",
       "    <tr>\n",
       "      <th>170</th>\n",
       "      <td>10.446000</td>\n",
       "      <td>9.515561</td>\n",
       "      <td>8.4</td>\n",
       "    </tr>\n",
       "    <tr>\n",
       "      <th>171</th>\n",
       "      <td>17.054000</td>\n",
       "      <td>15.118694</td>\n",
       "      <td>14.5</td>\n",
       "    </tr>\n",
       "    <tr>\n",
       "      <th>172</th>\n",
       "      <td>6.926000</td>\n",
       "      <td>8.027917</td>\n",
       "      <td>7.6</td>\n",
       "    </tr>\n",
       "    <tr>\n",
       "      <th>173</th>\n",
       "      <td>17.852000</td>\n",
       "      <td>15.309543</td>\n",
       "      <td>11.7</td>\n",
       "    </tr>\n",
       "    <tr>\n",
       "      <th>174</th>\n",
       "      <td>12.348000</td>\n",
       "      <td>17.952069</td>\n",
       "      <td>11.5</td>\n",
       "    </tr>\n",
       "    <tr>\n",
       "      <th>175</th>\n",
       "      <td>18.780000</td>\n",
       "      <td>20.619062</td>\n",
       "      <td>27.0</td>\n",
       "    </tr>\n",
       "    <tr>\n",
       "      <th>176</th>\n",
       "      <td>20.070500</td>\n",
       "      <td>19.224396</td>\n",
       "      <td>20.2</td>\n",
       "    </tr>\n",
       "    <tr>\n",
       "      <th>177</th>\n",
       "      <td>17.364000</td>\n",
       "      <td>15.397627</td>\n",
       "      <td>11.7</td>\n",
       "    </tr>\n",
       "    <tr>\n",
       "      <th>178</th>\n",
       "      <td>18.780000</td>\n",
       "      <td>20.609275</td>\n",
       "      <td>11.8</td>\n",
       "    </tr>\n",
       "    <tr>\n",
       "      <th>179</th>\n",
       "      <td>17.054000</td>\n",
       "      <td>15.172523</td>\n",
       "      <td>12.6</td>\n",
       "    </tr>\n",
       "    <tr>\n",
       "      <th>180</th>\n",
       "      <td>17.184000</td>\n",
       "      <td>14.732102</td>\n",
       "      <td>10.5</td>\n",
       "    </tr>\n",
       "    <tr>\n",
       "      <th>181</th>\n",
       "      <td>18.556000</td>\n",
       "      <td>17.761219</td>\n",
       "      <td>12.2</td>\n",
       "    </tr>\n",
       "    <tr>\n",
       "      <th>182</th>\n",
       "      <td>10.578000</td>\n",
       "      <td>9.818962</td>\n",
       "      <td>8.7</td>\n",
       "    </tr>\n",
       "    <tr>\n",
       "      <th>183</th>\n",
       "      <td>22.994000</td>\n",
       "      <td>21.142674</td>\n",
       "      <td>26.2</td>\n",
       "    </tr>\n",
       "    <tr>\n",
       "      <th>184</th>\n",
       "      <td>20.384000</td>\n",
       "      <td>19.488648</td>\n",
       "      <td>17.6</td>\n",
       "    </tr>\n",
       "    <tr>\n",
       "      <th>185</th>\n",
       "      <td>17.610000</td>\n",
       "      <td>17.100588</td>\n",
       "      <td>22.6</td>\n",
       "    </tr>\n",
       "    <tr>\n",
       "      <th>186</th>\n",
       "      <td>13.206000</td>\n",
       "      <td>13.895302</td>\n",
       "      <td>10.3</td>\n",
       "    </tr>\n",
       "    <tr>\n",
       "      <th>187</th>\n",
       "      <td>16.278000</td>\n",
       "      <td>16.420382</td>\n",
       "      <td>17.3</td>\n",
       "    </tr>\n",
       "    <tr>\n",
       "      <th>188</th>\n",
       "      <td>24.212000</td>\n",
       "      <td>21.064377</td>\n",
       "      <td>15.9</td>\n",
       "    </tr>\n",
       "    <tr>\n",
       "      <th>189</th>\n",
       "      <td>7.096000</td>\n",
       "      <td>7.983875</td>\n",
       "      <td>6.7</td>\n",
       "    </tr>\n",
       "    <tr>\n",
       "      <th>190</th>\n",
       "      <td>10.620000</td>\n",
       "      <td>9.001736</td>\n",
       "      <td>10.8</td>\n",
       "    </tr>\n",
       "    <tr>\n",
       "      <th>191</th>\n",
       "      <td>12.058000</td>\n",
       "      <td>10.763420</td>\n",
       "      <td>9.9</td>\n",
       "    </tr>\n",
       "    <tr>\n",
       "      <th>192</th>\n",
       "      <td>8.728000</td>\n",
       "      <td>7.910471</td>\n",
       "      <td>5.9</td>\n",
       "    </tr>\n",
       "    <tr>\n",
       "      <th>193</th>\n",
       "      <td>17.054000</td>\n",
       "      <td>15.231246</td>\n",
       "      <td>19.6</td>\n",
       "    </tr>\n",
       "    <tr>\n",
       "      <th>194</th>\n",
       "      <td>12.484000</td>\n",
       "      <td>14.394446</td>\n",
       "      <td>17.3</td>\n",
       "    </tr>\n",
       "    <tr>\n",
       "      <th>195</th>\n",
       "      <td>10.620000</td>\n",
       "      <td>8.938120</td>\n",
       "      <td>7.6</td>\n",
       "    </tr>\n",
       "    <tr>\n",
       "      <th>196</th>\n",
       "      <td>13.658000</td>\n",
       "      <td>11.678517</td>\n",
       "      <td>9.7</td>\n",
       "    </tr>\n",
       "    <tr>\n",
       "      <th>197</th>\n",
       "      <td>15.864000</td>\n",
       "      <td>15.730390</td>\n",
       "      <td>12.8</td>\n",
       "    </tr>\n",
       "    <tr>\n",
       "      <th>198</th>\n",
       "      <td>21.946000</td>\n",
       "      <td>20.946931</td>\n",
       "      <td>25.5</td>\n",
       "    </tr>\n",
       "    <tr>\n",
       "      <th>199</th>\n",
       "      <td>20.862000</td>\n",
       "      <td>18.426744</td>\n",
       "      <td>13.4</td>\n",
       "    </tr>\n",
       "  </tbody>\n",
       "</table>\n",
       "</div>"
      ],
      "text/plain": [
       "     RFR_Predictions  LR_Prediction  Actual\n",
       "160        17.284000      15.510179    14.4\n",
       "161        11.076000      11.262564    13.3\n",
       "162        15.006000      16.288256    14.9\n",
       "163        17.230000      15.069758    18.0\n",
       "164        11.876000      12.804037    11.9\n",
       "165        16.339733      18.544190    11.9\n",
       "166         8.524000       7.944726     8.0\n",
       "167        15.516000      17.188672    12.2\n",
       "168        18.736000      17.609519    17.1\n",
       "169        21.946000      20.981186    15.0\n",
       "170        10.446000       9.515561     8.4\n",
       "171        17.054000      15.118694    14.5\n",
       "172         6.926000       8.027917     7.6\n",
       "173        17.852000      15.309543    11.7\n",
       "174        12.348000      17.952069    11.5\n",
       "175        18.780000      20.619062    27.0\n",
       "176        20.070500      19.224396    20.2\n",
       "177        17.364000      15.397627    11.7\n",
       "178        18.780000      20.609275    11.8\n",
       "179        17.054000      15.172523    12.6\n",
       "180        17.184000      14.732102    10.5\n",
       "181        18.556000      17.761219    12.2\n",
       "182        10.578000       9.818962     8.7\n",
       "183        22.994000      21.142674    26.2\n",
       "184        20.384000      19.488648    17.6\n",
       "185        17.610000      17.100588    22.6\n",
       "186        13.206000      13.895302    10.3\n",
       "187        16.278000      16.420382    17.3\n",
       "188        24.212000      21.064377    15.9\n",
       "189         7.096000       7.983875     6.7\n",
       "190        10.620000       9.001736    10.8\n",
       "191        12.058000      10.763420     9.9\n",
       "192         8.728000       7.910471     5.9\n",
       "193        17.054000      15.231246    19.6\n",
       "194        12.484000      14.394446    17.3\n",
       "195        10.620000       8.938120     7.6\n",
       "196        13.658000      11.678517     9.7\n",
       "197        15.864000      15.730390    12.8\n",
       "198        21.946000      20.946931    25.5\n",
       "199        20.862000      18.426744    13.4"
      ]
     },
     "execution_count": 36,
     "metadata": {},
     "output_type": "execute_result"
    }
   ],
   "source": [
    "preds_vs_actual['RFR_Predictions'] -preds_vs_actual['RFR_Predictions'] "
   ]
  },
  {
   "cell_type": "code",
   "execution_count": 37,
   "metadata": {},
   "outputs": [
    {
     "name": "stdout",
     "output_type": "stream",
     "text": [
      "2.0574704979983585\n"
     ]
    }
   ],
   "source": [
    "print(RSE(preds_vs_actual['Actual'],preds_vs_actual['RFR_Predictions'],158))\n"
   ]
  },
  {
   "cell_type": "code",
   "execution_count": 38,
   "metadata": {},
   "outputs": [
    {
     "name": "stdout",
     "output_type": "stream",
     "text": [
      "1.8912698394872183\n"
     ]
    }
   ],
   "source": [
    "print(RSE(preds_vs_actual['Actual'],preds_vs_actual['LR_Prediction'],158))\n"
   ]
  },
  {
   "cell_type": "code",
   "execution_count": null,
   "metadata": {},
   "outputs": [],
   "source": []
  }
 ],
 "metadata": {
  "kernelspec": {
   "display_name": "Python 3",
   "language": "python",
   "name": "python3"
  },
  "language_info": {
   "codemirror_mode": {
    "name": "ipython",
    "version": 3
   },
   "file_extension": ".py",
   "mimetype": "text/x-python",
   "name": "python",
   "nbconvert_exporter": "python",
   "pygments_lexer": "ipython3",
   "version": "3.7.3"
  }
 },
 "nbformat": 4,
 "nbformat_minor": 2
}
